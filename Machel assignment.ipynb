{
 "cells": [
  {
   "cell_type": "markdown",
   "metadata": {},
   "source": [
    "# Machel COVID-19 case plotter for Kybernum course"
   ]
  },
  {
   "cell_type": "code",
   "execution_count": 1,
   "metadata": {},
   "outputs": [],
   "source": [
    "# Import Library\n",
    "import numpy as np\n",
    "import pandas as pd\n",
    "import matplotlib.pyplot as plt\n",
    "import datetime\n",
    "\n",
    "plt.style.use('seaborn-colorblind') #Sets chart style\n",
    "plt.rcParams['axes.facecolor'] = '#faf5ef' #Sets chart background colour\n",
    "plt.rc('figure', figsize=(9, 6))"
   ]
  },
  {
   "cell_type": "markdown",
   "metadata": {},
   "source": [
    "## Contents\n",
    "\n",
    "\n",
    " 1. [Introduction](#intro)\n",
    " 2. [Argentina and its neighbours in the winter](#ARG_et_al)\n",
    " 3. [Interactive chart 1 - Total cases and deaths for one country](#chart1)\n",
    " 4. [Interactive chart 2 - Total cases and deaths for two countries](#chart2)\n",
    " 5. [Interactive chart 3 - Total cases for n countries](#chart3)"
   ]
  },
  {
   "cell_type": "markdown",
   "metadata": {},
   "source": [
    "## Introduction <a id='intro'></a>\n",
    "This notebook is meant to allow an examination of COVID-19 data. The data used come from [Our World in Data](https://ourworldindata.org/coronavirus-data-explorer?hideControls=true&yScale=log&zoomToSelection=true&minPopulationFilter=1000000&casesMetric=true&dailyFreq=true&aligned=true&smoothing=7&country=), who in turn use the European Centre for Disease Prevention and Control (ECDC) as their underlying source."
   ]
  },
  {
   "cell_type": "markdown",
   "metadata": {},
   "source": [
    "### Importing and exploring the data\n",
    "In this section the COVID-19 data is imported."
   ]
  },
  {
   "cell_type": "code",
   "execution_count": 2,
   "metadata": {},
   "outputs": [],
   "source": [
    "#import data\n",
    "covid = pd.read_csv('https://covid.ourworldindata.org/data/ecdc/full_data.csv')"
   ]
  },
  {
   "cell_type": "code",
   "execution_count": 3,
   "metadata": {},
   "outputs": [
    {
     "data": {
      "text/plain": [
       "(59354, 10)"
      ]
     },
     "execution_count": 3,
     "metadata": {},
     "output_type": "execute_result"
    }
   ],
   "source": [
    "covid.shape"
   ]
  },
  {
   "cell_type": "code",
   "execution_count": 4,
   "metadata": {},
   "outputs": [
    {
     "data": {
      "text/html": [
       "<div>\n",
       "<style scoped>\n",
       "    .dataframe tbody tr th:only-of-type {\n",
       "        vertical-align: middle;\n",
       "    }\n",
       "\n",
       "    .dataframe tbody tr th {\n",
       "        vertical-align: top;\n",
       "    }\n",
       "\n",
       "    .dataframe thead th {\n",
       "        text-align: right;\n",
       "    }\n",
       "</style>\n",
       "<table border=\"1\" class=\"dataframe\">\n",
       "  <thead>\n",
       "    <tr style=\"text-align: right;\">\n",
       "      <th></th>\n",
       "      <th>date</th>\n",
       "      <th>location</th>\n",
       "      <th>new_cases</th>\n",
       "      <th>new_deaths</th>\n",
       "      <th>total_cases</th>\n",
       "      <th>total_deaths</th>\n",
       "      <th>weekly_cases</th>\n",
       "      <th>weekly_deaths</th>\n",
       "      <th>biweekly_cases</th>\n",
       "      <th>biweekly_deaths</th>\n",
       "    </tr>\n",
       "  </thead>\n",
       "  <tbody>\n",
       "    <tr>\n",
       "      <th>0</th>\n",
       "      <td>2019-12-31</td>\n",
       "      <td>Afghanistan</td>\n",
       "      <td>0.0</td>\n",
       "      <td>0.0</td>\n",
       "      <td>NaN</td>\n",
       "      <td>NaN</td>\n",
       "      <td>NaN</td>\n",
       "      <td>NaN</td>\n",
       "      <td>NaN</td>\n",
       "      <td>NaN</td>\n",
       "    </tr>\n",
       "    <tr>\n",
       "      <th>1</th>\n",
       "      <td>2020-01-01</td>\n",
       "      <td>Afghanistan</td>\n",
       "      <td>0.0</td>\n",
       "      <td>0.0</td>\n",
       "      <td>NaN</td>\n",
       "      <td>NaN</td>\n",
       "      <td>NaN</td>\n",
       "      <td>NaN</td>\n",
       "      <td>NaN</td>\n",
       "      <td>NaN</td>\n",
       "    </tr>\n",
       "    <tr>\n",
       "      <th>2</th>\n",
       "      <td>2020-01-02</td>\n",
       "      <td>Afghanistan</td>\n",
       "      <td>0.0</td>\n",
       "      <td>0.0</td>\n",
       "      <td>NaN</td>\n",
       "      <td>NaN</td>\n",
       "      <td>NaN</td>\n",
       "      <td>NaN</td>\n",
       "      <td>NaN</td>\n",
       "      <td>NaN</td>\n",
       "    </tr>\n",
       "    <tr>\n",
       "      <th>3</th>\n",
       "      <td>2020-01-03</td>\n",
       "      <td>Afghanistan</td>\n",
       "      <td>0.0</td>\n",
       "      <td>0.0</td>\n",
       "      <td>NaN</td>\n",
       "      <td>NaN</td>\n",
       "      <td>NaN</td>\n",
       "      <td>NaN</td>\n",
       "      <td>NaN</td>\n",
       "      <td>NaN</td>\n",
       "    </tr>\n",
       "    <tr>\n",
       "      <th>4</th>\n",
       "      <td>2020-01-04</td>\n",
       "      <td>Afghanistan</td>\n",
       "      <td>0.0</td>\n",
       "      <td>0.0</td>\n",
       "      <td>NaN</td>\n",
       "      <td>NaN</td>\n",
       "      <td>NaN</td>\n",
       "      <td>NaN</td>\n",
       "      <td>NaN</td>\n",
       "      <td>NaN</td>\n",
       "    </tr>\n",
       "    <tr>\n",
       "      <th>...</th>\n",
       "      <td>...</td>\n",
       "      <td>...</td>\n",
       "      <td>...</td>\n",
       "      <td>...</td>\n",
       "      <td>...</td>\n",
       "      <td>...</td>\n",
       "      <td>...</td>\n",
       "      <td>...</td>\n",
       "      <td>...</td>\n",
       "      <td>...</td>\n",
       "    </tr>\n",
       "    <tr>\n",
       "      <th>59349</th>\n",
       "      <td>2020-11-25</td>\n",
       "      <td>Zimbabwe</td>\n",
       "      <td>90.0</td>\n",
       "      <td>1.0</td>\n",
       "      <td>9398.0</td>\n",
       "      <td>274.0</td>\n",
       "      <td>453.0</td>\n",
       "      <td>14.0</td>\n",
       "      <td>788.0</td>\n",
       "      <td>19.0</td>\n",
       "    </tr>\n",
       "    <tr>\n",
       "      <th>59350</th>\n",
       "      <td>2020-11-26</td>\n",
       "      <td>Zimbabwe</td>\n",
       "      <td>110.0</td>\n",
       "      <td>0.0</td>\n",
       "      <td>9508.0</td>\n",
       "      <td>274.0</td>\n",
       "      <td>527.0</td>\n",
       "      <td>13.0</td>\n",
       "      <td>841.0</td>\n",
       "      <td>19.0</td>\n",
       "    </tr>\n",
       "    <tr>\n",
       "      <th>59351</th>\n",
       "      <td>2020-11-27</td>\n",
       "      <td>Zimbabwe</td>\n",
       "      <td>115.0</td>\n",
       "      <td>0.0</td>\n",
       "      <td>9623.0</td>\n",
       "      <td>274.0</td>\n",
       "      <td>577.0</td>\n",
       "      <td>9.0</td>\n",
       "      <td>927.0</td>\n",
       "      <td>19.0</td>\n",
       "    </tr>\n",
       "    <tr>\n",
       "      <th>59352</th>\n",
       "      <td>2020-11-28</td>\n",
       "      <td>Zimbabwe</td>\n",
       "      <td>91.0</td>\n",
       "      <td>1.0</td>\n",
       "      <td>9714.0</td>\n",
       "      <td>275.0</td>\n",
       "      <td>594.0</td>\n",
       "      <td>10.0</td>\n",
       "      <td>949.0</td>\n",
       "      <td>18.0</td>\n",
       "    </tr>\n",
       "    <tr>\n",
       "      <th>59353</th>\n",
       "      <td>2020-11-29</td>\n",
       "      <td>Zimbabwe</td>\n",
       "      <td>108.0</td>\n",
       "      <td>0.0</td>\n",
       "      <td>9822.0</td>\n",
       "      <td>275.0</td>\n",
       "      <td>650.0</td>\n",
       "      <td>10.0</td>\n",
       "      <td>1036.0</td>\n",
       "      <td>18.0</td>\n",
       "    </tr>\n",
       "  </tbody>\n",
       "</table>\n",
       "<p>59354 rows × 10 columns</p>\n",
       "</div>"
      ],
      "text/plain": [
       "             date     location  new_cases  new_deaths  total_cases  \\\n",
       "0      2019-12-31  Afghanistan        0.0         0.0          NaN   \n",
       "1      2020-01-01  Afghanistan        0.0         0.0          NaN   \n",
       "2      2020-01-02  Afghanistan        0.0         0.0          NaN   \n",
       "3      2020-01-03  Afghanistan        0.0         0.0          NaN   \n",
       "4      2020-01-04  Afghanistan        0.0         0.0          NaN   \n",
       "...           ...          ...        ...         ...          ...   \n",
       "59349  2020-11-25     Zimbabwe       90.0         1.0       9398.0   \n",
       "59350  2020-11-26     Zimbabwe      110.0         0.0       9508.0   \n",
       "59351  2020-11-27     Zimbabwe      115.0         0.0       9623.0   \n",
       "59352  2020-11-28     Zimbabwe       91.0         1.0       9714.0   \n",
       "59353  2020-11-29     Zimbabwe      108.0         0.0       9822.0   \n",
       "\n",
       "       total_deaths  weekly_cases  weekly_deaths  biweekly_cases  \\\n",
       "0               NaN           NaN            NaN             NaN   \n",
       "1               NaN           NaN            NaN             NaN   \n",
       "2               NaN           NaN            NaN             NaN   \n",
       "3               NaN           NaN            NaN             NaN   \n",
       "4               NaN           NaN            NaN             NaN   \n",
       "...             ...           ...            ...             ...   \n",
       "59349         274.0         453.0           14.0           788.0   \n",
       "59350         274.0         527.0           13.0           841.0   \n",
       "59351         274.0         577.0            9.0           927.0   \n",
       "59352         275.0         594.0           10.0           949.0   \n",
       "59353         275.0         650.0           10.0          1036.0   \n",
       "\n",
       "       biweekly_deaths  \n",
       "0                  NaN  \n",
       "1                  NaN  \n",
       "2                  NaN  \n",
       "3                  NaN  \n",
       "4                  NaN  \n",
       "...                ...  \n",
       "59349             19.0  \n",
       "59350             19.0  \n",
       "59351             19.0  \n",
       "59352             18.0  \n",
       "59353             18.0  \n",
       "\n",
       "[59354 rows x 10 columns]"
      ]
     },
     "execution_count": 4,
     "metadata": {},
     "output_type": "execute_result"
    }
   ],
   "source": [
    "covid"
   ]
  },
  {
   "cell_type": "code",
   "execution_count": 5,
   "metadata": {},
   "outputs": [
    {
     "data": {
      "text/plain": [
       "date                object\n",
       "location            object\n",
       "new_cases          float64\n",
       "new_deaths         float64\n",
       "total_cases        float64\n",
       "total_deaths       float64\n",
       "weekly_cases       float64\n",
       "weekly_deaths      float64\n",
       "biweekly_cases     float64\n",
       "biweekly_deaths    float64\n",
       "dtype: object"
      ]
     },
     "execution_count": 5,
     "metadata": {},
     "output_type": "execute_result"
    }
   ],
   "source": [
    "covid.dtypes"
   ]
  },
  {
   "cell_type": "code",
   "execution_count": 6,
   "metadata": {},
   "outputs": [
    {
     "data": {
      "text/html": [
       "<div>\n",
       "<style scoped>\n",
       "    .dataframe tbody tr th:only-of-type {\n",
       "        vertical-align: middle;\n",
       "    }\n",
       "\n",
       "    .dataframe tbody tr th {\n",
       "        vertical-align: top;\n",
       "    }\n",
       "\n",
       "    .dataframe thead th {\n",
       "        text-align: right;\n",
       "    }\n",
       "</style>\n",
       "<table border=\"1\" class=\"dataframe\">\n",
       "  <thead>\n",
       "    <tr style=\"text-align: right;\">\n",
       "      <th></th>\n",
       "      <th>new_cases</th>\n",
       "      <th>new_deaths</th>\n",
       "      <th>total_cases</th>\n",
       "      <th>total_deaths</th>\n",
       "      <th>weekly_cases</th>\n",
       "      <th>weekly_deaths</th>\n",
       "      <th>biweekly_cases</th>\n",
       "      <th>biweekly_deaths</th>\n",
       "    </tr>\n",
       "  </thead>\n",
       "  <tbody>\n",
       "    <tr>\n",
       "      <th>count</th>\n",
       "      <td>59021.000000</td>\n",
       "      <td>59021.000000</td>\n",
       "      <td>5.605100e+04</td>\n",
       "      <td>4.641400e+04</td>\n",
       "      <td>5.822200e+04</td>\n",
       "      <td>58222.000000</td>\n",
       "      <td>5.671700e+04</td>\n",
       "      <td>56717.000000</td>\n",
       "    </tr>\n",
       "    <tr>\n",
       "      <th>mean</th>\n",
       "      <td>2110.111604</td>\n",
       "      <td>49.252978</td>\n",
       "      <td>1.862250e+05</td>\n",
       "      <td>7.278976e+03</td>\n",
       "      <td>1.455184e+04</td>\n",
       "      <td>341.875751</td>\n",
       "      <td>2.886393e+04</td>\n",
       "      <td>684.477088</td>\n",
       "    </tr>\n",
       "    <tr>\n",
       "      <th>std</th>\n",
       "      <td>19951.023265</td>\n",
       "      <td>411.828590</td>\n",
       "      <td>1.885282e+06</td>\n",
       "      <td>5.923431e+04</td>\n",
       "      <td>1.365011e+05</td>\n",
       "      <td>2779.184258</td>\n",
       "      <td>2.679244e+05</td>\n",
       "      <td>5499.683987</td>\n",
       "    </tr>\n",
       "    <tr>\n",
       "      <th>min</th>\n",
       "      <td>-8261.000000</td>\n",
       "      <td>-1918.000000</td>\n",
       "      <td>1.000000e+00</td>\n",
       "      <td>1.000000e+00</td>\n",
       "      <td>-3.864000e+03</td>\n",
       "      <td>-1625.000000</td>\n",
       "      <td>-9.050000e+02</td>\n",
       "      <td>-1616.000000</td>\n",
       "    </tr>\n",
       "    <tr>\n",
       "      <th>25%</th>\n",
       "      <td>0.000000</td>\n",
       "      <td>0.000000</td>\n",
       "      <td>1.900000e+02</td>\n",
       "      <td>1.400000e+01</td>\n",
       "      <td>7.000000e+00</td>\n",
       "      <td>0.000000</td>\n",
       "      <td>1.700000e+01</td>\n",
       "      <td>0.000000</td>\n",
       "    </tr>\n",
       "    <tr>\n",
       "      <th>50%</th>\n",
       "      <td>15.000000</td>\n",
       "      <td>0.000000</td>\n",
       "      <td>2.319000e+03</td>\n",
       "      <td>9.300000e+01</td>\n",
       "      <td>1.430000e+02</td>\n",
       "      <td>2.000000</td>\n",
       "      <td>3.140000e+02</td>\n",
       "      <td>4.000000</td>\n",
       "    </tr>\n",
       "    <tr>\n",
       "      <th>75%</th>\n",
       "      <td>256.000000</td>\n",
       "      <td>4.000000</td>\n",
       "      <td>2.583750e+04</td>\n",
       "      <td>8.020000e+02</td>\n",
       "      <td>1.888000e+03</td>\n",
       "      <td>31.000000</td>\n",
       "      <td>3.839000e+03</td>\n",
       "      <td>64.000000</td>\n",
       "    </tr>\n",
       "    <tr>\n",
       "      <th>max</th>\n",
       "      <td>679758.000000</td>\n",
       "      <td>12583.000000</td>\n",
       "      <td>6.227103e+07</td>\n",
       "      <td>1.453531e+06</td>\n",
       "      <td>4.182966e+06</td>\n",
       "      <td>71978.000000</td>\n",
       "      <td>8.302092e+06</td>\n",
       "      <td>139209.000000</td>\n",
       "    </tr>\n",
       "  </tbody>\n",
       "</table>\n",
       "</div>"
      ],
      "text/plain": [
       "           new_cases    new_deaths   total_cases  total_deaths  weekly_cases  \\\n",
       "count   59021.000000  59021.000000  5.605100e+04  4.641400e+04  5.822200e+04   \n",
       "mean     2110.111604     49.252978  1.862250e+05  7.278976e+03  1.455184e+04   \n",
       "std     19951.023265    411.828590  1.885282e+06  5.923431e+04  1.365011e+05   \n",
       "min     -8261.000000  -1918.000000  1.000000e+00  1.000000e+00 -3.864000e+03   \n",
       "25%         0.000000      0.000000  1.900000e+02  1.400000e+01  7.000000e+00   \n",
       "50%        15.000000      0.000000  2.319000e+03  9.300000e+01  1.430000e+02   \n",
       "75%       256.000000      4.000000  2.583750e+04  8.020000e+02  1.888000e+03   \n",
       "max    679758.000000  12583.000000  6.227103e+07  1.453531e+06  4.182966e+06   \n",
       "\n",
       "       weekly_deaths  biweekly_cases  biweekly_deaths  \n",
       "count   58222.000000    5.671700e+04     56717.000000  \n",
       "mean      341.875751    2.886393e+04       684.477088  \n",
       "std      2779.184258    2.679244e+05      5499.683987  \n",
       "min     -1625.000000   -9.050000e+02     -1616.000000  \n",
       "25%         0.000000    1.700000e+01         0.000000  \n",
       "50%         2.000000    3.140000e+02         4.000000  \n",
       "75%        31.000000    3.839000e+03        64.000000  \n",
       "max     71978.000000    8.302092e+06    139209.000000  "
      ]
     },
     "execution_count": 6,
     "metadata": {},
     "output_type": "execute_result"
    }
   ],
   "source": [
    "covid.describe()"
   ]
  },
  {
   "cell_type": "code",
   "execution_count": 7,
   "metadata": {},
   "outputs": [],
   "source": [
    "#Sets country name as index\n",
    "covid = covid.set_index('location')"
   ]
  },
  {
   "cell_type": "code",
   "execution_count": 13,
   "metadata": {},
   "outputs": [],
   "source": [
    "#Creates a new series with datetime data from the series \"date\".\n",
    "covid['dates'] = pd.to_datetime(covid.date)"
   ]
  },
  {
   "cell_type": "code",
   "execution_count": 14,
   "metadata": {},
   "outputs": [
    {
     "data": {
      "text/html": [
       "<div>\n",
       "<style scoped>\n",
       "    .dataframe tbody tr th:only-of-type {\n",
       "        vertical-align: middle;\n",
       "    }\n",
       "\n",
       "    .dataframe tbody tr th {\n",
       "        vertical-align: top;\n",
       "    }\n",
       "\n",
       "    .dataframe thead th {\n",
       "        text-align: right;\n",
       "    }\n",
       "</style>\n",
       "<table border=\"1\" class=\"dataframe\">\n",
       "  <thead>\n",
       "    <tr style=\"text-align: right;\">\n",
       "      <th></th>\n",
       "      <th>date</th>\n",
       "      <th>new_cases</th>\n",
       "      <th>new_deaths</th>\n",
       "      <th>total_cases</th>\n",
       "      <th>total_deaths</th>\n",
       "      <th>weekly_cases</th>\n",
       "      <th>weekly_deaths</th>\n",
       "      <th>biweekly_cases</th>\n",
       "      <th>biweekly_deaths</th>\n",
       "      <th>dates</th>\n",
       "    </tr>\n",
       "    <tr>\n",
       "      <th>location</th>\n",
       "      <th></th>\n",
       "      <th></th>\n",
       "      <th></th>\n",
       "      <th></th>\n",
       "      <th></th>\n",
       "      <th></th>\n",
       "      <th></th>\n",
       "      <th></th>\n",
       "      <th></th>\n",
       "      <th></th>\n",
       "    </tr>\n",
       "  </thead>\n",
       "  <tbody>\n",
       "    <tr>\n",
       "      <th>Afghanistan</th>\n",
       "      <td>2019-12-31</td>\n",
       "      <td>0.0</td>\n",
       "      <td>0.0</td>\n",
       "      <td>NaN</td>\n",
       "      <td>NaN</td>\n",
       "      <td>NaN</td>\n",
       "      <td>NaN</td>\n",
       "      <td>NaN</td>\n",
       "      <td>NaN</td>\n",
       "      <td>2019-12-31</td>\n",
       "    </tr>\n",
       "    <tr>\n",
       "      <th>Afghanistan</th>\n",
       "      <td>2020-01-01</td>\n",
       "      <td>0.0</td>\n",
       "      <td>0.0</td>\n",
       "      <td>NaN</td>\n",
       "      <td>NaN</td>\n",
       "      <td>NaN</td>\n",
       "      <td>NaN</td>\n",
       "      <td>NaN</td>\n",
       "      <td>NaN</td>\n",
       "      <td>2020-01-01</td>\n",
       "    </tr>\n",
       "    <tr>\n",
       "      <th>Afghanistan</th>\n",
       "      <td>2020-01-02</td>\n",
       "      <td>0.0</td>\n",
       "      <td>0.0</td>\n",
       "      <td>NaN</td>\n",
       "      <td>NaN</td>\n",
       "      <td>NaN</td>\n",
       "      <td>NaN</td>\n",
       "      <td>NaN</td>\n",
       "      <td>NaN</td>\n",
       "      <td>2020-01-02</td>\n",
       "    </tr>\n",
       "    <tr>\n",
       "      <th>Afghanistan</th>\n",
       "      <td>2020-01-03</td>\n",
       "      <td>0.0</td>\n",
       "      <td>0.0</td>\n",
       "      <td>NaN</td>\n",
       "      <td>NaN</td>\n",
       "      <td>NaN</td>\n",
       "      <td>NaN</td>\n",
       "      <td>NaN</td>\n",
       "      <td>NaN</td>\n",
       "      <td>2020-01-03</td>\n",
       "    </tr>\n",
       "    <tr>\n",
       "      <th>Afghanistan</th>\n",
       "      <td>2020-01-04</td>\n",
       "      <td>0.0</td>\n",
       "      <td>0.0</td>\n",
       "      <td>NaN</td>\n",
       "      <td>NaN</td>\n",
       "      <td>NaN</td>\n",
       "      <td>NaN</td>\n",
       "      <td>NaN</td>\n",
       "      <td>NaN</td>\n",
       "      <td>2020-01-04</td>\n",
       "    </tr>\n",
       "  </tbody>\n",
       "</table>\n",
       "</div>"
      ],
      "text/plain": [
       "                   date  new_cases  new_deaths  total_cases  total_deaths  \\\n",
       "location                                                                    \n",
       "Afghanistan  2019-12-31        0.0         0.0          NaN           NaN   \n",
       "Afghanistan  2020-01-01        0.0         0.0          NaN           NaN   \n",
       "Afghanistan  2020-01-02        0.0         0.0          NaN           NaN   \n",
       "Afghanistan  2020-01-03        0.0         0.0          NaN           NaN   \n",
       "Afghanistan  2020-01-04        0.0         0.0          NaN           NaN   \n",
       "\n",
       "             weekly_cases  weekly_deaths  biweekly_cases  biweekly_deaths  \\\n",
       "location                                                                    \n",
       "Afghanistan           NaN            NaN             NaN              NaN   \n",
       "Afghanistan           NaN            NaN             NaN              NaN   \n",
       "Afghanistan           NaN            NaN             NaN              NaN   \n",
       "Afghanistan           NaN            NaN             NaN              NaN   \n",
       "Afghanistan           NaN            NaN             NaN              NaN   \n",
       "\n",
       "                 dates  \n",
       "location                \n",
       "Afghanistan 2019-12-31  \n",
       "Afghanistan 2020-01-01  \n",
       "Afghanistan 2020-01-02  \n",
       "Afghanistan 2020-01-03  \n",
       "Afghanistan 2020-01-04  "
      ]
     },
     "execution_count": 14,
     "metadata": {},
     "output_type": "execute_result"
    }
   ],
   "source": [
    "covid.head()"
   ]
  },
  {
   "cell_type": "code",
   "execution_count": 17,
   "metadata": {},
   "outputs": [
    {
     "name": "stdout",
     "output_type": "stream",
     "text": [
      "<class 'pandas.core.frame.DataFrame'>\n",
      "Index: 59354 entries, Afghanistan to Zimbabwe\n",
      "Data columns (total 10 columns):\n",
      " #   Column           Non-Null Count  Dtype         \n",
      "---  ------           --------------  -----         \n",
      " 0   date             59354 non-null  object        \n",
      " 1   new_cases        59021 non-null  float64       \n",
      " 2   new_deaths       59021 non-null  float64       \n",
      " 3   total_cases      56051 non-null  float64       \n",
      " 4   total_deaths     46414 non-null  float64       \n",
      " 5   weekly_cases     58222 non-null  float64       \n",
      " 6   weekly_deaths    58222 non-null  float64       \n",
      " 7   biweekly_cases   56717 non-null  float64       \n",
      " 8   biweekly_deaths  56717 non-null  float64       \n",
      " 9   dates            59354 non-null  datetime64[ns]\n",
      "dtypes: datetime64[ns](1), float64(8), object(1)\n",
      "memory usage: 5.0+ MB\n"
     ]
    }
   ],
   "source": [
    "covid.info()"
   ]
  },
  {
   "cell_type": "code",
   "execution_count": 18,
   "metadata": {},
   "outputs": [
    {
     "data": {
      "text/plain": [
       "Index(['Afghanistan', 'Albania', 'Algeria', 'Andorra', 'Angola', 'Anguilla',\n",
       "       'Antigua and Barbuda', 'Argentina', 'Armenia', 'Aruba',\n",
       "       ...\n",
       "       'Vanuatu', 'Vatican', 'Venezuela', 'Vietnam', 'Wallis and Futuna',\n",
       "       'Western Sahara', 'World', 'Yemen', 'Zambia', 'Zimbabwe'],\n",
       "      dtype='object', name='location', length=215)"
      ]
     },
     "execution_count": 18,
     "metadata": {},
     "output_type": "execute_result"
    }
   ],
   "source": [
    "# This produces an array with each country name\n",
    "covid.index.unique()"
   ]
  },
  {
   "cell_type": "code",
   "execution_count": 19,
   "metadata": {},
   "outputs": [
    {
     "data": {
      "text/plain": [
       "Finland                 335\n",
       "United Arab Emirates    335\n",
       "Dominican Republic      335\n",
       "India                   335\n",
       "Switzerland             335\n",
       "                       ... \n",
       "International            71\n",
       "Solomon Islands          45\n",
       "Wallis and Futuna        44\n",
       "Marshall Islands         32\n",
       "Vanuatu                  19\n",
       "Name: location, Length: 215, dtype: int64"
      ]
     },
     "execution_count": 19,
     "metadata": {},
     "output_type": "execute_result"
    }
   ],
   "source": [
    "covid.index.value_counts()"
   ]
  },
  {
   "cell_type": "code",
   "execution_count": 23,
   "metadata": {},
   "outputs": [
    {
     "name": "stdin",
     "output_type": "stream",
     "text": [
      "Enter part or all of the country name: \n"
     ]
    },
    {
     "data": {
      "text/plain": [
       "Index(['Afghanistan', 'Albania', 'Algeria', 'Andorra', 'Angola', 'Anguilla',\n",
       "       'Antigua and Barbuda', 'Argentina', 'Armenia', 'Aruba',\n",
       "       ...\n",
       "       'Vanuatu', 'Vatican', 'Venezuela', 'Vietnam', 'Wallis and Futuna',\n",
       "       'Western Sahara', 'World', 'Yemen', 'Zambia', 'Zimbabwe'],\n",
       "      dtype='object', name='location', length=215)"
      ]
     },
     "execution_count": 23,
     "metadata": {},
     "output_type": "execute_result"
    }
   ],
   "source": [
    "# This code cell can be used to search for which countries are included in the dataset using part of their name\n",
    "x = input('Enter part or all of the country name:')\n",
    "UC = covid.index.unique()\n",
    "UC[UC.str.contains(x)]"
   ]
  },
  {
   "cell_type": "markdown",
   "metadata": {},
   "source": [
    "### Findings\n",
    "After importing and a bit of exploring it is found that the data include daily, weekly and biweekly COVID-19 cases and deaths for 215 countries and territories in the world over the time period 31 December 2019 to 29 November 2020."
   ]
  },
  {
   "cell_type": "markdown",
   "metadata": {},
   "source": [
    "## Argentina and its neighbours in the winter <a id='ARG_et_al'></a>"
   ]
  },
  {
   "cell_type": "markdown",
   "metadata": {},
   "source": [
    "This code cell produces a chart of total cases for Argentina, Chile, Bolivia, Paraguay, Brazil and Uruguay during the winter months (June 21 to September 21)."
   ]
  },
  {
   "cell_type": "code",
   "execution_count": 15,
   "metadata": {},
   "outputs": [
    {
     "data": {
      "image/png": "[encoded data removed]",
      "text/plain": [
       "<Figure size 648x432 with 1 Axes>"
      ]
     },
     "metadata": {
      "needs_background": "light"
     },
     "output_type": "display_data"
    }
   ],
   "source": [
    "SA=['Argentina','Chile','Bolivia','Paraguay','Brazil','Uruguay']\n",
    "\n",
    "axes = covid.loc[SA[0]].plot('dates', 'total_cases', label = 'Argentina')\n",
    "[covid.loc[i].plot('dates', 'total_cases', label = i, ax = axes) for i in SA[1:]]\n",
    "axes.set_xlim([datetime.date(2020, 6, 21), datetime.date(2020, 9, 21)]) #sets the time range\n",
    "\n",
    "plt.title('Cumulative COVID-19 cases in Argentina and surrounding countries: 21 Jun - 21 Sep, 2020')\n",
    "plt.ylabel('Total cases (log scale)')\n",
    "plt.yscale('log') # applies logarithmic scale to the y-axis\n",
    "plt.savefig('Argentina et al.png')"
   ]
  },
  {
   "cell_type": "markdown",
   "metadata": {},
   "source": [
    "### Interactive chart 1 - Total cases and deaths for one country <a id='chart1'></a>\n",
    "This code allows for the input of one country and produces one line chart, with series for the total cases and total deaths from COVID-19.\n"
   ]
  },
  {
   "cell_type": "code",
   "execution_count": 26,
   "metadata": {},
   "outputs": [
    {
     "name": "stdin",
     "output_type": "stream",
     "text": [
      "Enter country: Colombia\n",
      "Enter start date (including the year): 07/08/2020\n",
      "Enter end date (including the year): 08/08/2020\n"
     ]
    },
    {
     "name": "stdout",
     "output_type": "stream",
     "text": [
      "AxesSubplot(0.125,0.2;0.775x0.68)\n"
     ]
    },
    {
     "data": {
      "image/png": "[encoded data removed]",
      "text/plain": [
       "<Figure size 648x432 with 2 Axes>"
      ]
     },
     "metadata": {
      "needs_background": "light"
     },
     "output_type": "display_data"
    }
   ],
   "source": [
    "#Working exceptions. Build on this for the final chart\n",
    "\n",
    "c1 = []\n",
    "c1 = input(\"Enter country:\")\n",
    "\n",
    "dd1 = input('Enter start date (including the year):')\n",
    "dd2 = input('Enter end date (including the year):')\n",
    "\n",
    " \n",
    "def chart1(c1,dd1,dd2):\n",
    "    axes = covid.loc[c1].plot('dates', 'total_cases', label = 'Total cases')\n",
    "    plt.ylabel('Total cases')\n",
    "    \n",
    "    covid.loc[c1].plot('dates', 'total_deaths', label = 'Total deaths', linestyle = '--', ax = axes, secondary_y=True)\n",
    "    plt.ylabel('Total deaths')\n",
    "    axes.set_xlim([dd1, dd2]) #sets the time range\n",
    "        \n",
    "    plt.title(f'Cumulative COVID-19 cases and deaths: {c1}')\n",
    "    \n",
    "    #plt.yscale('log') # applies logarithmic scale to the y-axis\n",
    "        \n",
    "    return axes\n",
    "\n",
    "try:\n",
    "    print(chart1(c1,dd1,dd2))\n",
    "except KeyError:\n",
    "    print(\"Whoops! You may have entered the country name incorrectly. Make sure your spelling and capitalization are correct. To search for available countries, check the last code cell in the introduction section.\")\n",
    "except TypeError:\n",
    "    print(\"Hmmm. You may have entered the dates incorrectly. You can try again with a more appropriate format, but for now lets take a look at the entire range :)\")\n",
    "except Exception:\n",
    "    print (\"Hmmm....I'm not exactly sure what happened. Maybe you should try again.\")\n",
    " "
   ]
  },
  {
   "cell_type": "markdown",
   "metadata": {},
   "source": [
    "### Interactive chart 2 - Total cases and deaths for two countries <a id='chart2'></a>\n",
    "This code allows for the input of two countries and produces one line chart for each country, with series for the total cases and total deaths from COVID-19."
   ]
  },
  {
   "cell_type": "code",
   "execution_count": 27,
   "metadata": {},
   "outputs": [
    {
     "name": "stdin",
     "output_type": "stream",
     "text": [
      "Enter country 1: Barbados\n",
      "Enter country 2: Jamaica\n",
      "Enter start date (including the year): 07/08/2020\n",
      "Enter end date (including the year): 08/08/2020\n"
     ]
    },
    {
     "name": "stdout",
     "output_type": "stream",
     "text": [
      "None\n"
     ]
    },
    {
     "data": {
      "image/png": "[encoded data removed]",
      "text/plain": [
       "<Figure size 648x432 with 2 Axes>"
      ]
     },
     "metadata": {
      "needs_background": "light"
     },
     "output_type": "display_data"
    },
    {
     "data": {
      "image/png": "[encoded data removed]",
      "text/plain": [
       "<Figure size 648x432 with 2 Axes>"
      ]
     },
     "metadata": {
      "needs_background": "light"
     },
     "output_type": "display_data"
    }
   ],
   "source": [
    "c1 = input(\"Enter country 1:\")\n",
    "c2 = input(\"Enter country 2:\")\n",
    "\n",
    "dd1 = input('Enter start date (including the year):')\n",
    "dd2 = input('Enter end date (including the year):')\n",
    "\n",
    "\n",
    "def chart(c1,c2,dd1,dd2):\n",
    "    # Country 1 chart\n",
    "    axes1 = covid.loc[c1].plot('dates', 'total_cases', label = 'Total cases')\n",
    "    plt.ylabel('Total cases')\n",
    "    \n",
    "    covid.loc[c1].plot('dates', 'total_deaths', label = 'Total deaths', linestyle = '--', ax = axes1, secondary_y=True)\n",
    "    plt.ylabel('Total deaths')\n",
    "    axes1.set_xlim([dd1, dd2]) #sets the time range\n",
    "    \n",
    "    plt.title(f'Cumulative COVID-19 cases and deaths: {c1}')\n",
    "    \n",
    "    # Country 2 chart\n",
    "    axes2 = covid.loc[c2].plot('dates', 'total_cases', label = 'Total cases')\n",
    "    plt.ylabel('Total cases')\n",
    "    \n",
    "    covid.loc[c2].plot('dates', 'total_deaths', label = 'Total deaths', linestyle = '--', ax = axes2, secondary_y=True)\n",
    "    plt.ylabel('Total deaths')\n",
    "    axes2.set_xlim([dd1, dd2]) #sets the time range\n",
    "    \n",
    "    \n",
    "    plt.title(f'Cumulative COVID-19 cases and deaths: {c2}')\n",
    "    #plt.yscale('log') # applies logarithmic scale to the y-axis\n",
    "    \n",
    "    return\n",
    "\n",
    "try:\n",
    "    print(chart(c1,c2,dd1,dd2))\n",
    "except KeyError:\n",
    "    print(\"Whoops! You may have entered the country name incorrectly. Make sure your spelling and capitalization are correct. To search for available countries, check the last code cell in the introduction section.\")\n",
    "except TypeError:\n",
    "    print(\"Hmmm. You may have entered the dates incorrectly. You can try again with a more appropriate format, but for now lets take a look at the entire range :)\")\n",
    "except Exception:\n",
    "    print (\"Hmmm....I'm not exactly sure what happened. Maybe you should try again.\")"
   ]
  },
  {
   "cell_type": "markdown",
   "metadata": {},
   "source": [
    "### Interactive chart 3 - Number of cases for n countries on a logarithmic scale. <a id='chart3'></a>\n",
    "This code allows for the input of n countries and produces one line chart, with the total cases series for each country."
   ]
  },
  {
   "cell_type": "code",
   "execution_count": 18,
   "metadata": {},
   "outputs": [
    {
     "name": "stdin",
     "output_type": "stream",
     "text": [
      "Enter countries. Use just a comma between them: Japan,Singapore,Vietnam\n",
      "Enter start date (including the year): Jan 1 2020\n",
      "Enter end date (including the year): Dec 1 2020\n"
     ]
    },
    {
     "name": "stdout",
     "output_type": "stream",
     "text": [
      "AxesSubplot(0.125,0.125;0.775x0.755)\n"
     ]
    },
    {
     "data": {
      "image/png": "[encoded data removed]",
      "text/plain": [
       "<Figure size 648x432 with 1 Axes>"
      ]
     },
     "metadata": {
      "needs_background": "light"
     },
     "output_type": "display_data"
    }
   ],
   "source": [
    "co=[]\n",
    "\n",
    "co=input(\"Enter countries. Use just a comma between them:\")\n",
    "c2=co.split(',')\n",
    "\n",
    "dd1 = input('Enter start date (including the year):')\n",
    "dd2 = input('Enter end date (including the year):')\n",
    "  \n",
    "    \n",
    "def chart(c2,dd1,dd2):\n",
    "    axes = covid.loc[c2[0]].plot('dates', 'total_cases', label = c2[0])\n",
    "    [covid.loc[i].plot('dates', 'total_cases', label = i, ax = axes) for i in c2[1:]] # A list comprehension is used to plot all the countries from the 2nd to the nth\n",
    "    axes.set_xlim([dd1, dd2]) #sets the time range\n",
    "    \n",
    "    plt.ylabel('Total cases (log scale)')\n",
    "    plt.yscale('log') # applies logarithmic scale to the y-axis\n",
    "    plt.title('Cumulative COVID-19 cases')\n",
    "    \n",
    "    return axes\n",
    "\n",
    "try:\n",
    "    print(chart(c2,dd1,dd2))\n",
    "except KeyError:\n",
    "    print(\"Whoops! You may have entered the country name(s) incorrectly. Make sure your spelling and capitalization are correct, with just commas between the country names. To search for available countries, check the last code cell in the introduction section.\")\n",
    "except TypeError:\n",
    "    print(\"Hmmm. You may have entered the dates incorrectly. You can try again with a more appropriate format, but for now lets take a look at the entire range :)\")\n",
    "except Exception:\n",
    "    print (\"Hmmm....I'm not exactly sure what happened. Maybe you should try again.\")"
   ]
  },
  {
   "cell_type": "markdown",
   "metadata": {},
   "source": [
    "## <span style=\"color:red\"> Finally, Season's Greetings!!! </span>"
   ]
  },
  {
   "cell_type": "code",
   "execution_count": null,
   "metadata": {},
   "outputs": [],
   "source": [
    "from IPython.display import YouTubeVideo\n",
    "YouTubeVideo('gj2amFEqxW4')"
   ]
  },
  {
   "cell_type": "code",
   "execution_count": null,
   "metadata": {},
   "outputs": [],
   "source": []
  }
 ],
 "metadata": {
  "kernelspec": {
   "display_name": "Python 3",
   "language": "python",
   "name": "python3"
  },
  "language_info": {
   "codemirror_mode": {
    "name": "ipython",
    "version": 3
   },
   "file_extension": ".py",
   "mimetype": "text/x-python",
   "name": "python",
   "nbconvert_exporter": "python",
   "pygments_lexer": "ipython3",
   "version": "3.8.3"
  }
 },
 "nbformat": 4,
 "nbformat_minor": 4
}
