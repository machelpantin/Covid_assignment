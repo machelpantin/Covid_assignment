{
 "cells": [
  {
   "cell_type": "markdown",
   "metadata": {},
   "source": [
    "# Machel COVID-19 assignment for Kybernum course"
   ]
  },
  {
   "cell_type": "code",
   "execution_count": 2,
   "metadata": {},
   "outputs": [],
   "source": [
    "# Import Library\n",
    "import numpy as np\n",
    "import pandas as pd\n",
    "import matplotlib.pyplot as plt"
   ]
  },
  {
   "cell_type": "code",
   "execution_count": 3,
   "metadata": {},
   "outputs": [],
   "source": [
    "#import data\n",
    "covid = pd.read_csv('https://covid.ourworldindata.org/data/ecdc/full_data.csv')"
   ]
  },
  {
   "cell_type": "code",
   "execution_count": 40,
   "metadata": {},
   "outputs": [
    {
     "data": {
      "text/html": [
       "<div>\n",
       "<style scoped>\n",
       "    .dataframe tbody tr th:only-of-type {\n",
       "        vertical-align: middle;\n",
       "    }\n",
       "\n",
       "    .dataframe tbody tr th {\n",
       "        vertical-align: top;\n",
       "    }\n",
       "\n",
       "    .dataframe thead th {\n",
       "        text-align: right;\n",
       "    }\n",
       "</style>\n",
       "<table border=\"1\" class=\"dataframe\">\n",
       "  <thead>\n",
       "    <tr style=\"text-align: right;\">\n",
       "      <th></th>\n",
       "      <th>date</th>\n",
       "      <th>new_cases</th>\n",
       "      <th>new_deaths</th>\n",
       "      <th>total_cases</th>\n",
       "      <th>total_deaths</th>\n",
       "      <th>weekly_cases</th>\n",
       "      <th>weekly_deaths</th>\n",
       "      <th>biweekly_cases</th>\n",
       "      <th>biweekly_deaths</th>\n",
       "      <th>dates</th>\n",
       "    </tr>\n",
       "    <tr>\n",
       "      <th>location</th>\n",
       "      <th></th>\n",
       "      <th></th>\n",
       "      <th></th>\n",
       "      <th></th>\n",
       "      <th></th>\n",
       "      <th></th>\n",
       "      <th></th>\n",
       "      <th></th>\n",
       "      <th></th>\n",
       "      <th></th>\n",
       "    </tr>\n",
       "  </thead>\n",
       "  <tbody>\n",
       "    <tr>\n",
       "      <th>Afghanistan</th>\n",
       "      <td>2019-12-31</td>\n",
       "      <td>0.0</td>\n",
       "      <td>0.0</td>\n",
       "      <td>NaN</td>\n",
       "      <td>NaN</td>\n",
       "      <td>NaN</td>\n",
       "      <td>NaN</td>\n",
       "      <td>NaN</td>\n",
       "      <td>NaN</td>\n",
       "      <td>2019-12-31</td>\n",
       "    </tr>\n",
       "    <tr>\n",
       "      <th>Afghanistan</th>\n",
       "      <td>2020-01-01</td>\n",
       "      <td>0.0</td>\n",
       "      <td>0.0</td>\n",
       "      <td>NaN</td>\n",
       "      <td>NaN</td>\n",
       "      <td>NaN</td>\n",
       "      <td>NaN</td>\n",
       "      <td>NaN</td>\n",
       "      <td>NaN</td>\n",
       "      <td>2020-01-01</td>\n",
       "    </tr>\n",
       "    <tr>\n",
       "      <th>Afghanistan</th>\n",
       "      <td>2020-01-02</td>\n",
       "      <td>0.0</td>\n",
       "      <td>0.0</td>\n",
       "      <td>NaN</td>\n",
       "      <td>NaN</td>\n",
       "      <td>NaN</td>\n",
       "      <td>NaN</td>\n",
       "      <td>NaN</td>\n",
       "      <td>NaN</td>\n",
       "      <td>2020-01-02</td>\n",
       "    </tr>\n",
       "    <tr>\n",
       "      <th>Afghanistan</th>\n",
       "      <td>2020-01-03</td>\n",
       "      <td>0.0</td>\n",
       "      <td>0.0</td>\n",
       "      <td>NaN</td>\n",
       "      <td>NaN</td>\n",
       "      <td>NaN</td>\n",
       "      <td>NaN</td>\n",
       "      <td>NaN</td>\n",
       "      <td>NaN</td>\n",
       "      <td>2020-01-03</td>\n",
       "    </tr>\n",
       "    <tr>\n",
       "      <th>Afghanistan</th>\n",
       "      <td>2020-01-04</td>\n",
       "      <td>0.0</td>\n",
       "      <td>0.0</td>\n",
       "      <td>NaN</td>\n",
       "      <td>NaN</td>\n",
       "      <td>NaN</td>\n",
       "      <td>NaN</td>\n",
       "      <td>NaN</td>\n",
       "      <td>NaN</td>\n",
       "      <td>2020-01-04</td>\n",
       "    </tr>\n",
       "    <tr>\n",
       "      <th>...</th>\n",
       "      <td>...</td>\n",
       "      <td>...</td>\n",
       "      <td>...</td>\n",
       "      <td>...</td>\n",
       "      <td>...</td>\n",
       "      <td>...</td>\n",
       "      <td>...</td>\n",
       "      <td>...</td>\n",
       "      <td>...</td>\n",
       "      <td>...</td>\n",
       "    </tr>\n",
       "    <tr>\n",
       "      <th>Zimbabwe</th>\n",
       "      <td>2020-11-25</td>\n",
       "      <td>90.0</td>\n",
       "      <td>1.0</td>\n",
       "      <td>9398.0</td>\n",
       "      <td>274.0</td>\n",
       "      <td>453.0</td>\n",
       "      <td>14.0</td>\n",
       "      <td>788.0</td>\n",
       "      <td>19.0</td>\n",
       "      <td>2020-11-25</td>\n",
       "    </tr>\n",
       "    <tr>\n",
       "      <th>Zimbabwe</th>\n",
       "      <td>2020-11-26</td>\n",
       "      <td>110.0</td>\n",
       "      <td>0.0</td>\n",
       "      <td>9508.0</td>\n",
       "      <td>274.0</td>\n",
       "      <td>527.0</td>\n",
       "      <td>13.0</td>\n",
       "      <td>841.0</td>\n",
       "      <td>19.0</td>\n",
       "      <td>2020-11-26</td>\n",
       "    </tr>\n",
       "    <tr>\n",
       "      <th>Zimbabwe</th>\n",
       "      <td>2020-11-27</td>\n",
       "      <td>115.0</td>\n",
       "      <td>0.0</td>\n",
       "      <td>9623.0</td>\n",
       "      <td>274.0</td>\n",
       "      <td>577.0</td>\n",
       "      <td>9.0</td>\n",
       "      <td>927.0</td>\n",
       "      <td>19.0</td>\n",
       "      <td>2020-11-27</td>\n",
       "    </tr>\n",
       "    <tr>\n",
       "      <th>Zimbabwe</th>\n",
       "      <td>2020-11-28</td>\n",
       "      <td>91.0</td>\n",
       "      <td>1.0</td>\n",
       "      <td>9714.0</td>\n",
       "      <td>275.0</td>\n",
       "      <td>594.0</td>\n",
       "      <td>10.0</td>\n",
       "      <td>949.0</td>\n",
       "      <td>18.0</td>\n",
       "      <td>2020-11-28</td>\n",
       "    </tr>\n",
       "    <tr>\n",
       "      <th>Zimbabwe</th>\n",
       "      <td>2020-11-29</td>\n",
       "      <td>108.0</td>\n",
       "      <td>0.0</td>\n",
       "      <td>9822.0</td>\n",
       "      <td>275.0</td>\n",
       "      <td>650.0</td>\n",
       "      <td>10.0</td>\n",
       "      <td>1036.0</td>\n",
       "      <td>18.0</td>\n",
       "      <td>2020-11-29</td>\n",
       "    </tr>\n",
       "  </tbody>\n",
       "</table>\n",
       "<p>59354 rows × 10 columns</p>\n",
       "</div>"
      ],
      "text/plain": [
       "                   date  new_cases  new_deaths  total_cases  total_deaths  \\\n",
       "location                                                                    \n",
       "Afghanistan  2019-12-31        0.0         0.0          NaN           NaN   \n",
       "Afghanistan  2020-01-01        0.0         0.0          NaN           NaN   \n",
       "Afghanistan  2020-01-02        0.0         0.0          NaN           NaN   \n",
       "Afghanistan  2020-01-03        0.0         0.0          NaN           NaN   \n",
       "Afghanistan  2020-01-04        0.0         0.0          NaN           NaN   \n",
       "...                 ...        ...         ...          ...           ...   \n",
       "Zimbabwe     2020-11-25       90.0         1.0       9398.0         274.0   \n",
       "Zimbabwe     2020-11-26      110.0         0.0       9508.0         274.0   \n",
       "Zimbabwe     2020-11-27      115.0         0.0       9623.0         274.0   \n",
       "Zimbabwe     2020-11-28       91.0         1.0       9714.0         275.0   \n",
       "Zimbabwe     2020-11-29      108.0         0.0       9822.0         275.0   \n",
       "\n",
       "             weekly_cases  weekly_deaths  biweekly_cases  biweekly_deaths  \\\n",
       "location                                                                    \n",
       "Afghanistan           NaN            NaN             NaN              NaN   \n",
       "Afghanistan           NaN            NaN             NaN              NaN   \n",
       "Afghanistan           NaN            NaN             NaN              NaN   \n",
       "Afghanistan           NaN            NaN             NaN              NaN   \n",
       "Afghanistan           NaN            NaN             NaN              NaN   \n",
       "...                   ...            ...             ...              ...   \n",
       "Zimbabwe            453.0           14.0           788.0             19.0   \n",
       "Zimbabwe            527.0           13.0           841.0             19.0   \n",
       "Zimbabwe            577.0            9.0           927.0             19.0   \n",
       "Zimbabwe            594.0           10.0           949.0             18.0   \n",
       "Zimbabwe            650.0           10.0          1036.0             18.0   \n",
       "\n",
       "                 dates  \n",
       "location                \n",
       "Afghanistan 2019-12-31  \n",
       "Afghanistan 2020-01-01  \n",
       "Afghanistan 2020-01-02  \n",
       "Afghanistan 2020-01-03  \n",
       "Afghanistan 2020-01-04  \n",
       "...                ...  \n",
       "Zimbabwe    2020-11-25  \n",
       "Zimbabwe    2020-11-26  \n",
       "Zimbabwe    2020-11-27  \n",
       "Zimbabwe    2020-11-28  \n",
       "Zimbabwe    2020-11-29  \n",
       "\n",
       "[59354 rows x 10 columns]"
      ]
     },
     "execution_count": 40,
     "metadata": {},
     "output_type": "execute_result"
    }
   ],
   "source": [
    "covid"
   ]
  },
  {
   "cell_type": "code",
   "execution_count": null,
   "metadata": {},
   "outputs": [],
   "source": [
    "covid.shape"
   ]
  },
  {
   "cell_type": "code",
   "execution_count": 7,
   "metadata": {},
   "outputs": [
    {
     "data": {
      "text/plain": [
       "date                object\n",
       "location            object\n",
       "new_cases          float64\n",
       "new_deaths         float64\n",
       "total_cases        float64\n",
       "total_deaths       float64\n",
       "weekly_cases       float64\n",
       "weekly_deaths      float64\n",
       "biweekly_cases     float64\n",
       "biweekly_deaths    float64\n",
       "dtype: object"
      ]
     },
     "execution_count": 7,
     "metadata": {},
     "output_type": "execute_result"
    }
   ],
   "source": [
    "covid.dtypes"
   ]
  },
  {
   "cell_type": "code",
   "execution_count": 8,
   "metadata": {},
   "outputs": [
    {
     "data": {
      "text/html": [
       "<div>\n",
       "<style scoped>\n",
       "    .dataframe tbody tr th:only-of-type {\n",
       "        vertical-align: middle;\n",
       "    }\n",
       "\n",
       "    .dataframe tbody tr th {\n",
       "        vertical-align: top;\n",
       "    }\n",
       "\n",
       "    .dataframe thead th {\n",
       "        text-align: right;\n",
       "    }\n",
       "</style>\n",
       "<table border=\"1\" class=\"dataframe\">\n",
       "  <thead>\n",
       "    <tr style=\"text-align: right;\">\n",
       "      <th></th>\n",
       "      <th>new_cases</th>\n",
       "      <th>new_deaths</th>\n",
       "      <th>total_cases</th>\n",
       "      <th>total_deaths</th>\n",
       "      <th>weekly_cases</th>\n",
       "      <th>weekly_deaths</th>\n",
       "      <th>biweekly_cases</th>\n",
       "      <th>biweekly_deaths</th>\n",
       "    </tr>\n",
       "  </thead>\n",
       "  <tbody>\n",
       "    <tr>\n",
       "      <th>count</th>\n",
       "      <td>59021.000000</td>\n",
       "      <td>59021.000000</td>\n",
       "      <td>5.605100e+04</td>\n",
       "      <td>4.641400e+04</td>\n",
       "      <td>5.822200e+04</td>\n",
       "      <td>58222.000000</td>\n",
       "      <td>5.671700e+04</td>\n",
       "      <td>56717.000000</td>\n",
       "    </tr>\n",
       "    <tr>\n",
       "      <th>mean</th>\n",
       "      <td>2110.111604</td>\n",
       "      <td>49.252978</td>\n",
       "      <td>1.862250e+05</td>\n",
       "      <td>7.278976e+03</td>\n",
       "      <td>1.455184e+04</td>\n",
       "      <td>341.875751</td>\n",
       "      <td>2.886393e+04</td>\n",
       "      <td>684.477088</td>\n",
       "    </tr>\n",
       "    <tr>\n",
       "      <th>std</th>\n",
       "      <td>19951.023265</td>\n",
       "      <td>411.828590</td>\n",
       "      <td>1.885282e+06</td>\n",
       "      <td>5.923431e+04</td>\n",
       "      <td>1.365011e+05</td>\n",
       "      <td>2779.184258</td>\n",
       "      <td>2.679244e+05</td>\n",
       "      <td>5499.683987</td>\n",
       "    </tr>\n",
       "    <tr>\n",
       "      <th>min</th>\n",
       "      <td>-8261.000000</td>\n",
       "      <td>-1918.000000</td>\n",
       "      <td>1.000000e+00</td>\n",
       "      <td>1.000000e+00</td>\n",
       "      <td>-3.864000e+03</td>\n",
       "      <td>-1625.000000</td>\n",
       "      <td>-9.050000e+02</td>\n",
       "      <td>-1616.000000</td>\n",
       "    </tr>\n",
       "    <tr>\n",
       "      <th>25%</th>\n",
       "      <td>0.000000</td>\n",
       "      <td>0.000000</td>\n",
       "      <td>1.900000e+02</td>\n",
       "      <td>1.400000e+01</td>\n",
       "      <td>7.000000e+00</td>\n",
       "      <td>0.000000</td>\n",
       "      <td>1.700000e+01</td>\n",
       "      <td>0.000000</td>\n",
       "    </tr>\n",
       "    <tr>\n",
       "      <th>50%</th>\n",
       "      <td>15.000000</td>\n",
       "      <td>0.000000</td>\n",
       "      <td>2.319000e+03</td>\n",
       "      <td>9.300000e+01</td>\n",
       "      <td>1.430000e+02</td>\n",
       "      <td>2.000000</td>\n",
       "      <td>3.140000e+02</td>\n",
       "      <td>4.000000</td>\n",
       "    </tr>\n",
       "    <tr>\n",
       "      <th>75%</th>\n",
       "      <td>256.000000</td>\n",
       "      <td>4.000000</td>\n",
       "      <td>2.583750e+04</td>\n",
       "      <td>8.020000e+02</td>\n",
       "      <td>1.888000e+03</td>\n",
       "      <td>31.000000</td>\n",
       "      <td>3.839000e+03</td>\n",
       "      <td>64.000000</td>\n",
       "    </tr>\n",
       "    <tr>\n",
       "      <th>max</th>\n",
       "      <td>679758.000000</td>\n",
       "      <td>12583.000000</td>\n",
       "      <td>6.227103e+07</td>\n",
       "      <td>1.453531e+06</td>\n",
       "      <td>4.182966e+06</td>\n",
       "      <td>71978.000000</td>\n",
       "      <td>8.302092e+06</td>\n",
       "      <td>139209.000000</td>\n",
       "    </tr>\n",
       "  </tbody>\n",
       "</table>\n",
       "</div>"
      ],
      "text/plain": [
       "           new_cases    new_deaths   total_cases  total_deaths  weekly_cases  \\\n",
       "count   59021.000000  59021.000000  5.605100e+04  4.641400e+04  5.822200e+04   \n",
       "mean     2110.111604     49.252978  1.862250e+05  7.278976e+03  1.455184e+04   \n",
       "std     19951.023265    411.828590  1.885282e+06  5.923431e+04  1.365011e+05   \n",
       "min     -8261.000000  -1918.000000  1.000000e+00  1.000000e+00 -3.864000e+03   \n",
       "25%         0.000000      0.000000  1.900000e+02  1.400000e+01  7.000000e+00   \n",
       "50%        15.000000      0.000000  2.319000e+03  9.300000e+01  1.430000e+02   \n",
       "75%       256.000000      4.000000  2.583750e+04  8.020000e+02  1.888000e+03   \n",
       "max    679758.000000  12583.000000  6.227103e+07  1.453531e+06  4.182966e+06   \n",
       "\n",
       "       weekly_deaths  biweekly_cases  biweekly_deaths  \n",
       "count   58222.000000    5.671700e+04     56717.000000  \n",
       "mean      341.875751    2.886393e+04       684.477088  \n",
       "std      2779.184258    2.679244e+05      5499.683987  \n",
       "min     -1625.000000   -9.050000e+02     -1616.000000  \n",
       "25%         0.000000    1.700000e+01         0.000000  \n",
       "50%         2.000000    3.140000e+02         4.000000  \n",
       "75%        31.000000    3.839000e+03        64.000000  \n",
       "max     71978.000000    8.302092e+06    139209.000000  "
      ]
     },
     "execution_count": 8,
     "metadata": {},
     "output_type": "execute_result"
    }
   ],
   "source": [
    "covid.describe()"
   ]
  },
  {
   "cell_type": "code",
   "execution_count": 9,
   "metadata": {},
   "outputs": [],
   "source": [
    "#Sets country name as index\n",
    "covid = covid.set_index('location')"
   ]
  },
  {
   "cell_type": "code",
   "execution_count": 10,
   "metadata": {},
   "outputs": [
    {
     "data": {
      "text/html": [
       "<div>\n",
       "<style scoped>\n",
       "    .dataframe tbody tr th:only-of-type {\n",
       "        vertical-align: middle;\n",
       "    }\n",
       "\n",
       "    .dataframe tbody tr th {\n",
       "        vertical-align: top;\n",
       "    }\n",
       "\n",
       "    .dataframe thead th {\n",
       "        text-align: right;\n",
       "    }\n",
       "</style>\n",
       "<table border=\"1\" class=\"dataframe\">\n",
       "  <thead>\n",
       "    <tr style=\"text-align: right;\">\n",
       "      <th></th>\n",
       "      <th>date</th>\n",
       "      <th>new_cases</th>\n",
       "      <th>new_deaths</th>\n",
       "      <th>total_cases</th>\n",
       "      <th>total_deaths</th>\n",
       "      <th>weekly_cases</th>\n",
       "      <th>weekly_deaths</th>\n",
       "      <th>biweekly_cases</th>\n",
       "      <th>biweekly_deaths</th>\n",
       "    </tr>\n",
       "    <tr>\n",
       "      <th>location</th>\n",
       "      <th></th>\n",
       "      <th></th>\n",
       "      <th></th>\n",
       "      <th></th>\n",
       "      <th></th>\n",
       "      <th></th>\n",
       "      <th></th>\n",
       "      <th></th>\n",
       "      <th></th>\n",
       "    </tr>\n",
       "  </thead>\n",
       "  <tbody>\n",
       "    <tr>\n",
       "      <th>Afghanistan</th>\n",
       "      <td>2019-12-31</td>\n",
       "      <td>0.0</td>\n",
       "      <td>0.0</td>\n",
       "      <td>NaN</td>\n",
       "      <td>NaN</td>\n",
       "      <td>NaN</td>\n",
       "      <td>NaN</td>\n",
       "      <td>NaN</td>\n",
       "      <td>NaN</td>\n",
       "    </tr>\n",
       "    <tr>\n",
       "      <th>Afghanistan</th>\n",
       "      <td>2020-01-01</td>\n",
       "      <td>0.0</td>\n",
       "      <td>0.0</td>\n",
       "      <td>NaN</td>\n",
       "      <td>NaN</td>\n",
       "      <td>NaN</td>\n",
       "      <td>NaN</td>\n",
       "      <td>NaN</td>\n",
       "      <td>NaN</td>\n",
       "    </tr>\n",
       "    <tr>\n",
       "      <th>Afghanistan</th>\n",
       "      <td>2020-01-02</td>\n",
       "      <td>0.0</td>\n",
       "      <td>0.0</td>\n",
       "      <td>NaN</td>\n",
       "      <td>NaN</td>\n",
       "      <td>NaN</td>\n",
       "      <td>NaN</td>\n",
       "      <td>NaN</td>\n",
       "      <td>NaN</td>\n",
       "    </tr>\n",
       "    <tr>\n",
       "      <th>Afghanistan</th>\n",
       "      <td>2020-01-03</td>\n",
       "      <td>0.0</td>\n",
       "      <td>0.0</td>\n",
       "      <td>NaN</td>\n",
       "      <td>NaN</td>\n",
       "      <td>NaN</td>\n",
       "      <td>NaN</td>\n",
       "      <td>NaN</td>\n",
       "      <td>NaN</td>\n",
       "    </tr>\n",
       "    <tr>\n",
       "      <th>Afghanistan</th>\n",
       "      <td>2020-01-04</td>\n",
       "      <td>0.0</td>\n",
       "      <td>0.0</td>\n",
       "      <td>NaN</td>\n",
       "      <td>NaN</td>\n",
       "      <td>NaN</td>\n",
       "      <td>NaN</td>\n",
       "      <td>NaN</td>\n",
       "      <td>NaN</td>\n",
       "    </tr>\n",
       "  </tbody>\n",
       "</table>\n",
       "</div>"
      ],
      "text/plain": [
       "                   date  new_cases  new_deaths  total_cases  total_deaths  \\\n",
       "location                                                                    \n",
       "Afghanistan  2019-12-31        0.0         0.0          NaN           NaN   \n",
       "Afghanistan  2020-01-01        0.0         0.0          NaN           NaN   \n",
       "Afghanistan  2020-01-02        0.0         0.0          NaN           NaN   \n",
       "Afghanistan  2020-01-03        0.0         0.0          NaN           NaN   \n",
       "Afghanistan  2020-01-04        0.0         0.0          NaN           NaN   \n",
       "\n",
       "             weekly_cases  weekly_deaths  biweekly_cases  biweekly_deaths  \n",
       "location                                                                   \n",
       "Afghanistan           NaN            NaN             NaN              NaN  \n",
       "Afghanistan           NaN            NaN             NaN              NaN  \n",
       "Afghanistan           NaN            NaN             NaN              NaN  \n",
       "Afghanistan           NaN            NaN             NaN              NaN  \n",
       "Afghanistan           NaN            NaN             NaN              NaN  "
      ]
     },
     "execution_count": 10,
     "metadata": {},
     "output_type": "execute_result"
    }
   ],
   "source": [
    "covid.head()"
   ]
  },
  {
   "cell_type": "code",
   "execution_count": 11,
   "metadata": {},
   "outputs": [
    {
     "data": {
      "text/plain": [
       "Timestamp('1952-07-08 00:00:00')"
      ]
     },
     "execution_count": 11,
     "metadata": {},
     "output_type": "execute_result"
    }
   ],
   "source": [
    "pd.to_datetime('7/8/1952')"
   ]
  },
  {
   "cell_type": "code",
   "execution_count": 13,
   "metadata": {},
   "outputs": [
    {
     "data": {
      "text/plain": [
       "Timestamp('1952-08-07 00:00:00')"
      ]
     },
     "execution_count": 13,
     "metadata": {},
     "output_type": "execute_result"
    }
   ],
   "source": [
    "pd.to_datetime('7/8/1952', dayfirst=True)"
   ]
  },
  {
   "cell_type": "code",
   "execution_count": 19,
   "metadata": {},
   "outputs": [],
   "source": [
    "covid['dates'] = pd.to_datetime(covid.date)"
   ]
  },
  {
   "cell_type": "code",
   "execution_count": 20,
   "metadata": {},
   "outputs": [
    {
     "data": {
      "text/plain": [
       "date                       object\n",
       "new_cases                 float64\n",
       "new_deaths                float64\n",
       "total_cases               float64\n",
       "total_deaths              float64\n",
       "weekly_cases              float64\n",
       "weekly_deaths             float64\n",
       "biweekly_cases            float64\n",
       "biweekly_deaths           float64\n",
       "dates              datetime64[ns]\n",
       "dtype: object"
      ]
     },
     "execution_count": 20,
     "metadata": {},
     "output_type": "execute_result"
    }
   ],
   "source": [
    "covid.dtypes"
   ]
  },
  {
   "cell_type": "code",
   "execution_count": 33,
   "metadata": {},
   "outputs": [
    {
     "data": {
      "text/html": [
       "<div>\n",
       "<style scoped>\n",
       "    .dataframe tbody tr th:only-of-type {\n",
       "        vertical-align: middle;\n",
       "    }\n",
       "\n",
       "    .dataframe tbody tr th {\n",
       "        vertical-align: top;\n",
       "    }\n",
       "\n",
       "    .dataframe thead th {\n",
       "        text-align: right;\n",
       "    }\n",
       "</style>\n",
       "<table border=\"1\" class=\"dataframe\">\n",
       "  <thead>\n",
       "    <tr style=\"text-align: right;\">\n",
       "      <th></th>\n",
       "      <th>date</th>\n",
       "      <th>new_cases</th>\n",
       "      <th>new_deaths</th>\n",
       "      <th>total_cases</th>\n",
       "      <th>total_deaths</th>\n",
       "      <th>weekly_cases</th>\n",
       "      <th>weekly_deaths</th>\n",
       "      <th>biweekly_cases</th>\n",
       "      <th>biweekly_deaths</th>\n",
       "      <th>dates</th>\n",
       "    </tr>\n",
       "    <tr>\n",
       "      <th>location</th>\n",
       "      <th></th>\n",
       "      <th></th>\n",
       "      <th></th>\n",
       "      <th></th>\n",
       "      <th></th>\n",
       "      <th></th>\n",
       "      <th></th>\n",
       "      <th></th>\n",
       "      <th></th>\n",
       "      <th></th>\n",
       "    </tr>\n",
       "  </thead>\n",
       "  <tbody>\n",
       "    <tr>\n",
       "      <th>Afghanistan</th>\n",
       "      <td>2019-12-31</td>\n",
       "      <td>0.0</td>\n",
       "      <td>0.0</td>\n",
       "      <td>NaN</td>\n",
       "      <td>NaN</td>\n",
       "      <td>NaN</td>\n",
       "      <td>NaN</td>\n",
       "      <td>NaN</td>\n",
       "      <td>NaN</td>\n",
       "      <td>2019-12-31</td>\n",
       "    </tr>\n",
       "    <tr>\n",
       "      <th>Afghanistan</th>\n",
       "      <td>2020-01-01</td>\n",
       "      <td>0.0</td>\n",
       "      <td>0.0</td>\n",
       "      <td>NaN</td>\n",
       "      <td>NaN</td>\n",
       "      <td>NaN</td>\n",
       "      <td>NaN</td>\n",
       "      <td>NaN</td>\n",
       "      <td>NaN</td>\n",
       "      <td>2020-01-01</td>\n",
       "    </tr>\n",
       "    <tr>\n",
       "      <th>Afghanistan</th>\n",
       "      <td>2020-01-02</td>\n",
       "      <td>0.0</td>\n",
       "      <td>0.0</td>\n",
       "      <td>NaN</td>\n",
       "      <td>NaN</td>\n",
       "      <td>NaN</td>\n",
       "      <td>NaN</td>\n",
       "      <td>NaN</td>\n",
       "      <td>NaN</td>\n",
       "      <td>2020-01-02</td>\n",
       "    </tr>\n",
       "    <tr>\n",
       "      <th>Afghanistan</th>\n",
       "      <td>2020-01-03</td>\n",
       "      <td>0.0</td>\n",
       "      <td>0.0</td>\n",
       "      <td>NaN</td>\n",
       "      <td>NaN</td>\n",
       "      <td>NaN</td>\n",
       "      <td>NaN</td>\n",
       "      <td>NaN</td>\n",
       "      <td>NaN</td>\n",
       "      <td>2020-01-03</td>\n",
       "    </tr>\n",
       "    <tr>\n",
       "      <th>Afghanistan</th>\n",
       "      <td>2020-01-04</td>\n",
       "      <td>0.0</td>\n",
       "      <td>0.0</td>\n",
       "      <td>NaN</td>\n",
       "      <td>NaN</td>\n",
       "      <td>NaN</td>\n",
       "      <td>NaN</td>\n",
       "      <td>NaN</td>\n",
       "      <td>NaN</td>\n",
       "      <td>2020-01-04</td>\n",
       "    </tr>\n",
       "    <tr>\n",
       "      <th>...</th>\n",
       "      <td>...</td>\n",
       "      <td>...</td>\n",
       "      <td>...</td>\n",
       "      <td>...</td>\n",
       "      <td>...</td>\n",
       "      <td>...</td>\n",
       "      <td>...</td>\n",
       "      <td>...</td>\n",
       "      <td>...</td>\n",
       "      <td>...</td>\n",
       "    </tr>\n",
       "    <tr>\n",
       "      <th>Zimbabwe</th>\n",
       "      <td>2020-11-25</td>\n",
       "      <td>90.0</td>\n",
       "      <td>1.0</td>\n",
       "      <td>9398.0</td>\n",
       "      <td>274.0</td>\n",
       "      <td>453.0</td>\n",
       "      <td>14.0</td>\n",
       "      <td>788.0</td>\n",
       "      <td>19.0</td>\n",
       "      <td>2020-11-25</td>\n",
       "    </tr>\n",
       "    <tr>\n",
       "      <th>Zimbabwe</th>\n",
       "      <td>2020-11-26</td>\n",
       "      <td>110.0</td>\n",
       "      <td>0.0</td>\n",
       "      <td>9508.0</td>\n",
       "      <td>274.0</td>\n",
       "      <td>527.0</td>\n",
       "      <td>13.0</td>\n",
       "      <td>841.0</td>\n",
       "      <td>19.0</td>\n",
       "      <td>2020-11-26</td>\n",
       "    </tr>\n",
       "    <tr>\n",
       "      <th>Zimbabwe</th>\n",
       "      <td>2020-11-27</td>\n",
       "      <td>115.0</td>\n",
       "      <td>0.0</td>\n",
       "      <td>9623.0</td>\n",
       "      <td>274.0</td>\n",
       "      <td>577.0</td>\n",
       "      <td>9.0</td>\n",
       "      <td>927.0</td>\n",
       "      <td>19.0</td>\n",
       "      <td>2020-11-27</td>\n",
       "    </tr>\n",
       "    <tr>\n",
       "      <th>Zimbabwe</th>\n",
       "      <td>2020-11-28</td>\n",
       "      <td>91.0</td>\n",
       "      <td>1.0</td>\n",
       "      <td>9714.0</td>\n",
       "      <td>275.0</td>\n",
       "      <td>594.0</td>\n",
       "      <td>10.0</td>\n",
       "      <td>949.0</td>\n",
       "      <td>18.0</td>\n",
       "      <td>2020-11-28</td>\n",
       "    </tr>\n",
       "    <tr>\n",
       "      <th>Zimbabwe</th>\n",
       "      <td>2020-11-29</td>\n",
       "      <td>108.0</td>\n",
       "      <td>0.0</td>\n",
       "      <td>9822.0</td>\n",
       "      <td>275.0</td>\n",
       "      <td>650.0</td>\n",
       "      <td>10.0</td>\n",
       "      <td>1036.0</td>\n",
       "      <td>18.0</td>\n",
       "      <td>2020-11-29</td>\n",
       "    </tr>\n",
       "  </tbody>\n",
       "</table>\n",
       "<p>59354 rows × 10 columns</p>\n",
       "</div>"
      ],
      "text/plain": [
       "                   date  new_cases  new_deaths  total_cases  total_deaths  \\\n",
       "location                                                                    \n",
       "Afghanistan  2019-12-31        0.0         0.0          NaN           NaN   \n",
       "Afghanistan  2020-01-01        0.0         0.0          NaN           NaN   \n",
       "Afghanistan  2020-01-02        0.0         0.0          NaN           NaN   \n",
       "Afghanistan  2020-01-03        0.0         0.0          NaN           NaN   \n",
       "Afghanistan  2020-01-04        0.0         0.0          NaN           NaN   \n",
       "...                 ...        ...         ...          ...           ...   \n",
       "Zimbabwe     2020-11-25       90.0         1.0       9398.0         274.0   \n",
       "Zimbabwe     2020-11-26      110.0         0.0       9508.0         274.0   \n",
       "Zimbabwe     2020-11-27      115.0         0.0       9623.0         274.0   \n",
       "Zimbabwe     2020-11-28       91.0         1.0       9714.0         275.0   \n",
       "Zimbabwe     2020-11-29      108.0         0.0       9822.0         275.0   \n",
       "\n",
       "             weekly_cases  weekly_deaths  biweekly_cases  biweekly_deaths  \\\n",
       "location                                                                    \n",
       "Afghanistan           NaN            NaN             NaN              NaN   \n",
       "Afghanistan           NaN            NaN             NaN              NaN   \n",
       "Afghanistan           NaN            NaN             NaN              NaN   \n",
       "Afghanistan           NaN            NaN             NaN              NaN   \n",
       "Afghanistan           NaN            NaN             NaN              NaN   \n",
       "...                   ...            ...             ...              ...   \n",
       "Zimbabwe            453.0           14.0           788.0             19.0   \n",
       "Zimbabwe            527.0           13.0           841.0             19.0   \n",
       "Zimbabwe            577.0            9.0           927.0             19.0   \n",
       "Zimbabwe            594.0           10.0           949.0             18.0   \n",
       "Zimbabwe            650.0           10.0          1036.0             18.0   \n",
       "\n",
       "                 dates  \n",
       "location                \n",
       "Afghanistan 2019-12-31  \n",
       "Afghanistan 2020-01-01  \n",
       "Afghanistan 2020-01-02  \n",
       "Afghanistan 2020-01-03  \n",
       "Afghanistan 2020-01-04  \n",
       "...                ...  \n",
       "Zimbabwe    2020-11-25  \n",
       "Zimbabwe    2020-11-26  \n",
       "Zimbabwe    2020-11-27  \n",
       "Zimbabwe    2020-11-28  \n",
       "Zimbabwe    2020-11-29  \n",
       "\n",
       "[59354 rows x 10 columns]"
      ]
     },
     "execution_count": 33,
     "metadata": {},
     "output_type": "execute_result"
    }
   ],
   "source": [
    "covid"
   ]
  },
  {
   "cell_type": "code",
   "execution_count": 35,
   "metadata": {},
   "outputs": [
    {
     "data": {
      "text/plain": [
       "<matplotlib.axes._subplots.AxesSubplot at 0x2180c874d00>"
      ]
     },
     "execution_count": 35,
     "metadata": {},
     "output_type": "execute_result"
    },
    {
     "data": {
      "image/png": "[encoded data removed]",
      "text/plain": [
       "<Figure size 432x288 with 1 Axes>"
      ]
     },
     "metadata": {
      "needs_background": "light"
     },
     "output_type": "display_data"
    }
   ],
   "source": [
    "covid.sort_values('dates').plot('dates', 'total_cases')"
   ]
  },
  {
   "cell_type": "code",
   "execution_count": 24,
   "metadata": {},
   "outputs": [
    {
     "data": {
      "text/plain": [
       "<matplotlib.axes._subplots.AxesSubplot at 0x2180950f4c0>"
      ]
     },
     "execution_count": 24,
     "metadata": {},
     "output_type": "execute_result"
    },
    {
     "data": {
      "image/png": "[encoded data removed]",
      "text/plain": [
       "<Figure size 432x288 with 1 Axes>"
      ]
     },
     "metadata": {
      "needs_background": "light"
     },
     "output_type": "display_data"
    }
   ],
   "source": [
    "covid.loc['Afghanistan'].plot('dates', 'total_cases')"
   ]
  },
  {
   "cell_type": "code",
   "execution_count": 37,
   "metadata": {},
   "outputs": [
    {
     "data": {
      "text/plain": [
       "Text(0, 0.5, 'Total cases')"
      ]
     },
     "execution_count": 37,
     "metadata": {},
     "output_type": "execute_result"
    },
    {
     "data": {
      "image/png": "[encoded data removed]",
      "text/plain": [
       "<Figure size 432x288 with 1 Axes>"
      ]
     },
     "metadata": {
      "needs_background": "light"
     },
     "output_type": "display_data"
    }
   ],
   "source": [
    "axes = covid.loc['Jamaica'].plot('dates', 'total_cases', label = 'JAM')\n",
    "covid.loc['Suriname'].plot('dates', 'total_cases', label = 'SUR', ax = axes)\n",
    "\n",
    "plt.ylabel('Total cases')"
   ]
  },
  {
   "cell_type": "code",
   "execution_count": 38,
   "metadata": {},
   "outputs": [
    {
     "data": {
      "image/png": "[encoded data removed]",
      "text/plain": [
       "<Figure size 432x288 with 1 Axes>"
      ]
     },
     "metadata": {
      "needs_background": "light"
     },
     "output_type": "display_data"
    }
   ],
   "source": [
    "axes = covid.loc['Jamaica'].plot('dates', 'total_cases', label = 'JAM')\n",
    "covid.loc['Suriname'].plot('dates', 'total_cases', label = 'SUR', ax = axes)\n",
    "\n",
    "plt.ylabel('Total cases')\n",
    "plt.yscale('log') # applies logarithmic scale to the y-axis"
   ]
  },
  {
   "cell_type": "code",
   "execution_count": 32,
   "metadata": {},
   "outputs": [
    {
     "data": {
      "text/plain": [
       "Text(0, 0.5, 'New cases')"
      ]
     },
     "execution_count": 32,
     "metadata": {},
     "output_type": "execute_result"
    },
    {
     "data": {
      "image/png": "[encoded data removed]",
      "text/plain": [
       "<Figure size 432x288 with 1 Axes>"
      ]
     },
     "metadata": {
      "needs_background": "light"
     },
     "output_type": "display_data"
    }
   ],
   "source": [
    "axes = covid.loc['Jamaica'].plot('dates', 'new_cases', label = 'JAM')\n",
    "covid.loc['Suriname'].plot('dates', 'new_cases', label = 'SUR', ax = axes)\n",
    "\n",
    "plt.ylabel('New cases')"
   ]
  },
  {
   "cell_type": "code",
   "execution_count": 41,
   "metadata": {},
   "outputs": [
    {
     "data": {
      "text/plain": [
       "Text(0, 0.5, 'New cases')"
      ]
     },
     "execution_count": 41,
     "metadata": {},
     "output_type": "execute_result"
    },
    {
     "data": {
      "image/png": "[encoded data removed]",
      "text/plain": [
       "<Figure size 432x288 with 1 Axes>"
      ]
     },
     "metadata": {
      "needs_background": "light"
     },
     "output_type": "display_data"
    }
   ],
   "source": [
    "axes = covid.loc['Jamaica'].plot('dates', 'new_cases', label = 'JAM')\n",
    "covid.loc['Suriname'].plot('dates', 'new_cases', label = 'SUR', ax = axes)\n",
    "\n",
    "plt.ylabel('New cases')"
   ]
  },
  {
   "cell_type": "code",
   "execution_count": 44,
   "metadata": {},
   "outputs": [],
   "source": [
    "import datetime"
   ]
  },
  {
   "cell_type": "code",
   "execution_count": 46,
   "metadata": {},
   "outputs": [
    {
     "data": {
      "image/png": "[encoded data removed]",
      "text/plain": [
       "<Figure size 432x288 with 1 Axes>"
      ]
     },
     "metadata": {
      "needs_background": "light"
     },
     "output_type": "display_data"
    }
   ],
   "source": [
    "axes = covid.loc['Jamaica'].plot('dates', 'total_cases', label = 'JAM')\n",
    "covid.loc['Suriname'].plot('dates', 'total_cases', label = 'SUR', ax = axes)\n",
    "axes.set_xlim([datetime.date(2020, 5, 5), datetime.date(2020, 8, 1)]) #sets the time range\n",
    "\n",
    "plt.ylabel('Total cases')\n",
    "plt.yscale('log') # applies logarithmic scale to the y-axis\n",
    "\n"
   ]
  },
  {
   "cell_type": "code",
   "execution_count": 50,
   "metadata": {},
   "outputs": [
    {
     "ename": "NameError",
     "evalue": "name 'parse' is not defined",
     "output_type": "error",
     "traceback": [
      "\u001b[1;31m---------------------------------------------------------------------------\u001b[0m",
      "\u001b[1;31mNameError\u001b[0m                                 Traceback (most recent call last)",
      "\u001b[1;32m<ipython-input-50-0dd93da80669>\u001b[0m in \u001b[0;36m<module>\u001b[1;34m\u001b[0m\n\u001b[0;32m      2\u001b[0m \u001b[0mcovid\u001b[0m\u001b[1;33m.\u001b[0m\u001b[0mloc\u001b[0m\u001b[1;33m[\u001b[0m\u001b[1;34m'Suriname'\u001b[0m\u001b[1;33m]\u001b[0m\u001b[1;33m.\u001b[0m\u001b[0mplot\u001b[0m\u001b[1;33m(\u001b[0m\u001b[1;34m'dates'\u001b[0m\u001b[1;33m,\u001b[0m \u001b[1;34m'total_cases'\u001b[0m\u001b[1;33m,\u001b[0m \u001b[0mlabel\u001b[0m \u001b[1;33m=\u001b[0m \u001b[1;34m'SUR'\u001b[0m\u001b[1;33m,\u001b[0m \u001b[0max\u001b[0m \u001b[1;33m=\u001b[0m \u001b[0maxes\u001b[0m\u001b[1;33m)\u001b[0m\u001b[1;33m\u001b[0m\u001b[1;33m\u001b[0m\u001b[0m\n\u001b[0;32m      3\u001b[0m \u001b[1;31m#axes.set_xlim([datetime.date(2020, 5, 5), datetime.date(2020, 8, 1)]) #sets the time range\u001b[0m\u001b[1;33m\u001b[0m\u001b[1;33m\u001b[0m\u001b[1;33m\u001b[0m\u001b[0m\n\u001b[1;32m----> 4\u001b[1;33m \u001b[0maxes\u001b[0m\u001b[1;33m.\u001b[0m\u001b[0mset_xlim\u001b[0m\u001b[1;33m(\u001b[0m\u001b[0mparse\u001b[0m\u001b[1;33m(\u001b[0m\u001b[1;34m'2020/5/5'\u001b[0m\u001b[1;33m)\u001b[0m\u001b[1;33m,\u001b[0m\u001b[1;33m(\u001b[0m\u001b[1;34m'2020/8/5'\u001b[0m\u001b[1;33m)\u001b[0m\u001b[1;33m)\u001b[0m\u001b[1;33m\u001b[0m\u001b[1;33m\u001b[0m\u001b[0m\n\u001b[0m\u001b[0;32m      5\u001b[0m \u001b[1;33m\u001b[0m\u001b[0m\n\u001b[0;32m      6\u001b[0m \u001b[0mplt\u001b[0m\u001b[1;33m.\u001b[0m\u001b[0mylabel\u001b[0m\u001b[1;33m(\u001b[0m\u001b[1;34m'Total cases'\u001b[0m\u001b[1;33m)\u001b[0m\u001b[1;33m\u001b[0m\u001b[1;33m\u001b[0m\u001b[0m\n",
      "\u001b[1;31mNameError\u001b[0m: name 'parse' is not defined"
     ]
    },
    {
     "data": {
      "image/png": "[encoded data removed]",
      "text/plain": [
       "<Figure size 432x288 with 1 Axes>"
      ]
     },
     "metadata": {
      "needs_background": "light"
     },
     "output_type": "display_data"
    }
   ],
   "source": [
    "axes = covid.loc['Jamaica'].plot('dates', 'total_cases', label = 'JAM')\n",
    "covid.loc['Suriname'].plot('dates', 'total_cases', label = 'SUR', ax = axes)\n",
    "#axes.set_xlim([datetime.date(2020, 5, 5), datetime.date(2020, 8, 1)]) #sets the time range\n",
    "axes.set_xlim(parse('2020/5/5'),('2020/8/5'))\n",
    "\n",
    "plt.ylabel('Total cases')\n",
    "plt.yscale('log') # applies logarithmic scale to the y-axis"
   ]
  }
 ],
 "metadata": {
  "kernelspec": {
   "display_name": "Python 3",
   "language": "python",
   "name": "python3"
  },
  "language_info": {
   "codemirror_mode": {
    "name": "ipython",
    "version": 3
   },
   "file_extension": ".py",
   "mimetype": "text/x-python",
   "name": "python",
   "nbconvert_exporter": "python",
   "pygments_lexer": "ipython3",
   "version": "3.8.3"
  }
 },
 "nbformat": 4,
 "nbformat_minor": 4
}
