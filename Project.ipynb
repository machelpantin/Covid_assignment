{
 "cells": [
  {
   "cell_type": "markdown",
   "metadata": {
    "id": "kegH31D9TmYk"
   },
   "source": [
    "# **Introduction to Data Analysis with Python - Final Project**"
   ]
  },
  {
   "cell_type": "markdown",
   "metadata": {
    "id": "Pxj3Bz92T-SE"
   },
   "source": [
    "In this final project you will be able to integrate the knowledge acquired throughout the course by implementing a practical application that we hope will serve as a starting point for the creation of many more projects in your future of all kinds of complexity.\n",
    "\n",
    "**Project objectives**:\n",
    "\n",
    "* That the participant masters the basics of Python programming.\n",
    "* That the participant has elementary knowledge about reading files, data processing, and data visualization.\n",
    "* That the participant can find and apply knowledge that goes beyond those explained in the course.\n",
    "* That the participant has an experience of applying Python programming to a practical example.\n",
    "\n",
    "Different project options are presented, of comparable difficulty, so that each one can choose the one they consider most interesting, that is, they must carry out only one of the projects among the options.\n"
   ]
  },
  {
   "cell_type": "markdown",
   "metadata": {
    "id": "d6mrZ0toqrRx"
   },
   "source": [
    "**Deadline**:\n",
    "  * **December 22, 2020**\n",
    "\n",
    "** Delivery method **:\n",
    "  * **A .ipynb file must be delivered (Jupyter Notebook) by email silsalinas1@gmail.com**\n",
    "\n"
   ]
  },
  {
   "cell_type": "markdown",
   "metadata": {
    "id": "kkd0rLgO1KSx"
   },
   "source": [
    "** Delivery details: **\n",
    "\n",
    "* In the Python code file **, the explanations of the operation of the program and the reasons for its solution will be valued in the correctness **. This can be done by comments in the code.\n",
    "\n",
    "* In addition to the Python code, **you must send a graph** in * .PNG * format generated using * matplotlib * **following the instructions in the project description**. This helps you and us to know that you are on the right track.\n",
    "\n",
    "* The program must be **robust**, that is, with little probability of failing when altering its input. If the format of the user input is not as expected **the program should not * crash***, but handle the situation accordingly. A strategy to detect possible failures is to imagine that a person is bent on producing an error in his program and think: ** What would this person try to break the code? ** This involves, for example, contemplating cases in which the user enters text when a number is expected, or you enter an unknown value, a key not found in a dictionary, an index larger than the size of a list, etc.\n",
    "\n",
    "* You are free to use your own criteria to decide how to implement those details that are not specified in the description.\n",
    "\n",
    "* The description of the projects specifies the minimum characteristics that they must have. **We give freedom to add functionality or improve the project if they wish, as long as all the minimum requirements detailed in the description are met**."
   ]
  },
  {
   "cell_type": "markdown",
   "metadata": {
    "id": "sGIp0nvGf9Ac"
   },
   "source": [
    "**Correction:**\n",
    "\n",
    "* If the project is approved, the course is considered completed.\n",
    "\n",
    "* If it is considered that the project still has details to be corrected, a redelivery may be requested at a later date."
   ]
  },
  {
   "cell_type": "markdown",
   "metadata": {
    "id": "40C-h2RsTAr-"
   },
   "source": [
    "# **1: COVID-19 Case Plotter**\n",
    "\n",
    "#### *Analysis and visualization of data on coronavirus cases in different countries.*\n",
    "\n",
    "\n",
    "In this age of misinformation it can be helpful to be able to draw your own conclusions about the data presented. The objective of this work is to obtain data on cases and deaths due to the Coronavirus from an online data repository and graph by country.\n",
    "\n",
    "**Minimum functionality (requirement):**\n",
    "\n",
    "* The application must receive from the user the name of the desired country and allow graphing detected cases and total deaths for that country as a function of time.\n",
    "* The user must be able to enter 2 countries and the number of cases and deaths in two graphs with labels is allowed to be plotted for those countries. The user must be able to enter the time interval to plot. Calculate the intersections between graphs if any and mark them with a point of some type.\n",
    "* The user must be able to enter *n* countries and the number of cases can be plotted for those countries on a [logarithmic scale] (https://en.wikipedia.org/wiki/Logarithmic_scale). The program should ask the user for the desired time interval.\n",
    "\n",
    "**Graphic to be delivered (requirement):**\n",
    "\n",
    "* Graph on the same image the number of cases in a [logarithmic scale] (https://en.wikipedia.org/wiki/Logarithmic_scale) of Argentina and all its neighboring countries (Chile, Bolivia, Paraguay, Brazil and Uruguay) during the winter months (June 21 to September 21). The curve that corresponds to each country should be clear.\n",
    "\n",
    "**Optional functionality:** *You can perform all, some, or none of the following items. You can also add other functionality that you can think of as long as it meets the minimum functionality.*\n",
    "\n",
    "\n",
    "\n",
    "**Suggestion:**\n",
    "* Legends can be rotated using `plt.xticks (rotation = 60)` (60 degree rotation). This is useful for long captions, such as dates.\n",
    "* In this [web page] (https://coronavirus.jhu.edu/data/new-cases) there is an example of logarithmic graphs."
   ]
  },
  {
   "cell_type": "code",
   "execution_count": 1,
   "metadata": {
    "colab": {
     "base_uri": "https://localhost:8080/"
    },
    "executionInfo": {
     "elapsed": 1900,
     "status": "ok",
     "timestamp": 1607608292145,
     "user": {
      "displayName": "Nyasha Skerrette",
      "photoUrl": "https://lh3.googleusercontent.com/a-/AOh14GjLgAsz_XMdXpXjYicsBJkQZWmJTaAaotCgeB8B=s64",
      "userId": "13156150517857247574"
     },
     "user_tz": 240
    },
    "id": "ASU5hpqvTY62",
    "outputId": "be669b9e-b900-4bd0-9e87-d68ef2a7be69"
   },
   "outputs": [
    {
     "name": "stdout",
     "output_type": "stream",
     "text": [
      "--2020-12-10 13:51:30--  https://covid.ourworldindata.org/data/ecdc/full_data.csv\n",
      "Resolving covid.ourworldindata.org (covid.ourworldindata.org)... 157.245.130.6, 104.248.50.87, 2604:a880:400:d1::888:7001, ...\n",
      "Connecting to covid.ourworldindata.org (covid.ourworldindata.org)|157.245.130.6|:443... connected.\n",
      "HTTP request sent, awaiting response... 200 OK\n",
      "Length: 3215657 (3.1M) [text/csv]\n",
      "Saving to: ‘full_data.csv’\n",
      "\n",
      "full_data.csv       100%[===================>]   3.07M  3.35MB/s    in 0.9s    \n",
      "\n",
      "2020-12-10 13:51:31 (3.35 MB/s) - ‘full_data.csv’ saved [3215657/3215657]\n",
      "\n"
     ]
    }
   ],
   "source": [
    "!wget 'https://covid.ourworldindata.org/data/ecdc/full_data.csv'"
   ]
  }
 ],
 "metadata": {
  "colab": {
   "collapsed_sections": [],
   "name": "Project.ipynb",
   "provenance": []
  },
  "kernelspec": {
   "display_name": "Python 3",
   "language": "python",
   "name": "python3"
  },
  "language_info": {
   "codemirror_mode": {
    "name": "ipython",
    "version": 3
   },
   "file_extension": ".py",
   "mimetype": "text/x-python",
   "name": "python",
   "nbconvert_exporter": "python",
   "pygments_lexer": "ipython3",
   "version": "3.8.3"
  }
 },
 "nbformat": 4,
 "nbformat_minor": 4
}
